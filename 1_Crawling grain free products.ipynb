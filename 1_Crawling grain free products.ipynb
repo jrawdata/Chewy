{
 "cells": [
  {
   "cell_type": "markdown",
   "id": "5f8d74b2",
   "metadata": {},
   "source": [
    "# Creating spider for grain-free"
   ]
  },
  {
   "cell_type": "code",
   "execution_count": null,
   "id": "75db2d7b",
   "metadata": {},
   "outputs": [],
   "source": [
    "import scrapy\n",
    "from scrapy.crawler import CrawlerProcess\n",
    "import re\n",
    "import pandas as pd\n",
    "import requests\n",
    "import json"
   ]
  },
  {
   "cell_type": "code",
   "execution_count": null,
   "id": "0aab9bf4",
   "metadata": {},
   "outputs": [],
   "source": [
    "class ChewySpider(scrapy.Spider):\n",
    "    name = \"Chewy_grain\"\n",
    "    start_urls = ['https://www.chewy.com/b/grain-free-11100']\n",
    "\n",
    "    def parse(self, response):\n",
    "        for g_products in response.css('div.kib-product-card__content'):\n",
    "            yield {\n",
    "            'brand_name':  g_products.css('a.kib-product-title ::text').get(),\n",
    "             'food_type':  g_products.css('a.kib-product-title *::text').re_first(r\"^\\s{1}[(\\w\\s)-|&|']+\"),\n",
    "            'price':  g_products.css('div.kib-product-price--md::text').get(),\n",
    "            'rating':  g_products.css('div.kib-product-rating__label::text').get(),\n",
    "             'no_review':  g_products.css('span.kib-product-rating__count::text').get(),\n",
    "             'link' : g_products.css('a.kib-product-title::attr(href)').get(),\n",
    "            }\n",
    "            \n",
    "        next_page= response.css('a.kib-pagination-new-item--next').attrib['href']\n",
    "        if next_page is not None:\n",
    "            yield response.follow(next_page, callback=self.parse)\n",
    "\n",
    "process = CrawlerProcess(settings={\n",
    "    \"FEEDS\": {\n",
    "        \"grain_free.csv\": {\"format\": \"csv\"},\n",
    "    },\n",
    "})\n",
    "\n",
    "process.crawl(ChewySpider)\n",
    "process.start()\n",
    "    \n",
    "    "
   ]
  },
  {
   "cell_type": "code",
   "execution_count": null,
   "id": "beda43b8",
   "metadata": {},
   "outputs": [],
   "source": [
    "#Convert to csv\n",
    "pd.options.display.max_rows = 800\n",
    "gf = pd.read_csv('grain_free.csv')\n",
    "gf = gf.dropna().reset_index(drop=True)\n",
    "gf"
   ]
  },
  {
   "cell_type": "markdown",
   "id": "0cf7e151",
   "metadata": {},
   "source": [
    "# Cleaning dataset"
   ]
  },
  {
   "cell_type": "code",
   "execution_count": null,
   "id": "937d42cb",
   "metadata": {},
   "outputs": [],
   "source": [
    "#Prep for changing data type\n",
    "gf['price'] = gf['price'].str.replace('$', '')\n",
    "gf['no_review'] = gf['no_review'].str.replace(',', '')"
   ]
  },
  {
   "cell_type": "code",
   "execution_count": null,
   "id": "34f3f693",
   "metadata": {},
   "outputs": [],
   "source": [
    "#Change data types\n",
    "gf['price'] = gf['price'].astype('float')\n",
    "gf['no_review'] = gf['no_review'].astype('int')\n",
    "gf['rating'] = gf['rating'].astype('str')"
   ]
  },
  {
   "cell_type": "code",
   "execution_count": null,
   "id": "2408cc15",
   "metadata": {},
   "outputs": [],
   "source": [
    "#Use regex to extract rating and change to float\n",
    "pattern = r'(\\d\\.\\d*)'\n",
    "\n",
    "gf['rating'] = gf['rating'].str.extract(pattern)\n",
    "gf['rating'] = gf['rating'].astype('float')"
   ]
  },
  {
   "cell_type": "code",
   "execution_count": null,
   "id": "5e862280",
   "metadata": {},
   "outputs": [],
   "source": [
    "#Filter for products with at least 100 reviews\n",
    "gf_100=gf[gf['no_review']>100].reset_index(drop=True)\n",
    "gf_100"
   ]
  },
  {
   "cell_type": "markdown",
   "id": "8c392edc",
   "metadata": {},
   "source": [
    "# Crawl through all pages"
   ]
  },
  {
   "cell_type": "code",
   "execution_count": null,
   "id": "806cb759",
   "metadata": {},
   "outputs": [],
   "source": [
    "#Extract product_id number from end of url\n",
    "gf_100_link = gf_100.link.str.extract(r'dp\\/(\\d+)', expand = True)\n",
    "gf_link = gf_100_link[0].values.tolist()\n",
    "len(gf_link)"
   ]
  },
  {
   "cell_type": "code",
   "execution_count": null,
   "id": "21825b5c",
   "metadata": {},
   "outputs": [],
   "source": [
    "#Chewy does not paginate, uses GraphQL to show more products \n",
    "#Use product_id and first \"after\" variable to start crawling\n",
    "URL = 'https://www.chewy.com/api/pdp-graphql/graphql'\n",
    "headers = {\n",
    "    'user-agent': 'user-agent: Mozilla/5.0 (X11; Linux x86_64) AppleWebKit/537.36 (KHTML, like Gecko) Chrome/102.0.5005.61 Safari/537.36'\n",
    "}\n",
    "\n",
    "def get_params(product_id,after):\n",
    "    params = {\n",
    "    'operationName': 'Reviews',\n",
    "    'variables': '{\"id\":\"'+product_id+'\",\"first\":100,\"sort\":\"MOST_RELEVANT\",\"after\":\"'+after+'\"}',\n",
    "    'extensions': '{\"persistedQuery\":{\"version\":1,\"sha256Hash\":\"f1ad95c550af020ebbc5c6da08fd478b1cf25b5e911cba4710d773b84e063730\"}}'\n",
    "}\n",
    "    return params"
   ]
  },
  {
   "cell_type": "code",
   "execution_count": null,
   "id": "3159edcc",
   "metadata": {},
   "outputs": [],
   "source": [
    " def get_reviews(product_id):\n",
    "    \n",
    "        reviews = []\n",
    "        hasNextPage = True\n",
    "        after = \"YXJyYXljb25uZWN0aW9uOjk=\"\n",
    "\n",
    "        while hasNextPage:\n",
    "            params = get_params(product_id,after)\n",
    "            response = requests.get(URL,\n",
    "                                params = params,\n",
    "                                headers = headers)\n",
    "            #return response\n",
    "            \n",
    "            after = (response.json()['data']['product']['reviews']['pageInfo']['endCursor'])\n",
    "            hasNextPage = (response.json()['data']['product']['reviews']['pageInfo']['hasNextPage'])\n",
    "            rev = (response.json()['data']['product']['reviews']['edges'])\n",
    "            reviews.extend(rev)\n",
    "\n",
    "        filepath = f\"data/reviews/reviews_{product_id}.json\"\n",
    "        with open(filepath,\"w\") as fi:\n",
    "            json.dump(reviews, fi)\n",
    "            #reviews.append(ids)"
   ]
  },
  {
   "cell_type": "code",
   "execution_count": null,
   "id": "a4625815",
   "metadata": {},
   "outputs": [],
   "source": [
    "product_id= gf_link\n",
    "\n",
    "for product_id in gf_link:\n",
    "    \n",
    "   get_reviews(product_id)"
   ]
  },
  {
   "cell_type": "code",
   "execution_count": null,
   "id": "aea53a3a",
   "metadata": {},
   "outputs": [],
   "source": [
    "response = get_reviews(ids)\n",
    "response.json()\n",
    "ids[0]"
   ]
  }
 ],
 "metadata": {
  "kernelspec": {
   "display_name": "Python 3",
   "language": "python",
   "name": "python3"
  },
  "language_info": {
   "codemirror_mode": {
    "name": "ipython",
    "version": 3
   },
   "file_extension": ".py",
   "mimetype": "text/x-python",
   "name": "python",
   "nbconvert_exporter": "python",
   "pygments_lexer": "ipython3",
   "version": "3.8.8"
  }
 },
 "nbformat": 4,
 "nbformat_minor": 5
}
