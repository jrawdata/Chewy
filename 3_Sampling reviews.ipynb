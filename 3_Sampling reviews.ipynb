{
 "cells": [
  {
   "cell_type": "code",
   "execution_count": null,
   "id": "e75a3245",
   "metadata": {},
   "outputs": [],
   "source": [
    "import pandas as pd\n",
    "import json\n",
    "from nltk.sentiment import SentimentIntensityAnalyzer\n",
    "import glob\n",
    "from sklearn.model_selection import train_test_split\n",
    "from sklearn.feature_extraction.text import CountVectorizer\n",
    "import os"
   ]
  },
  {
   "cell_type": "markdown",
   "id": "c1db3561",
   "metadata": {},
   "source": [
    "# Stratifying reviews by rating "
   ]
  },
  {
   "cell_type": "code",
   "execution_count": null,
   "id": "d72a5d31",
   "metadata": {},
   "outputs": [],
   "source": [
    "#directory for grain-free is reviews\n",
    "#directory for grain-inclusive is reviews_adults\n",
    "files =[]\n",
    "directory = 'data/reviews/'\n",
    " \n",
    "for filename in os.listdir(directory):\n",
    "    f = os.path.join(directory, filename)\n",
    "    \n",
    "    files.append(f)\n",
    "print(files)"
   ]
  },
  {
   "cell_type": "code",
   "execution_count": null,
   "id": "b438b76d",
   "metadata": {},
   "outputs": [],
   "source": [
    "len(files)"
   ]
  },
  {
   "cell_type": "code",
   "execution_count": null,
   "id": "87650d99",
   "metadata": {},
   "outputs": [],
   "source": [
    "#train_test split to stratify \n",
    "def strat_sample(file):\n",
    "     \n",
    "    with open(file) as fi:\n",
    "        review=pd.json_normalize(json.load(fi))\n",
    "        try:\n",
    "            x_train, x_test, y_train, y_test = train_test_split(review, \n",
    "                                                                review['node.rating'], \n",
    "                                                                test_size = 100, \n",
    "                                                                stratify = review['node.rating'] )\n",
    "        except ValueError: #for products that don't include all ratings\n",
    "            \n",
    "             x_train, x_test, y_train, y_test = train_test_split(review, \n",
    "                                                                review['node.rating'], \n",
    "                                                                test_size = .5)\n",
    "            \n",
    "        x_test['file_name'] = file \n",
    "    return  x_test"
   ]
  },
  {
   "cell_type": "raw",
   "id": "e526eb5d",
   "metadata": {},
   "source": [
    "# grain_incluive original: 115,173\n",
    "# grain-free original: 79,334"
   ]
  },
  {
   "cell_type": "code",
   "execution_count": null,
   "id": "f3f5d9bb",
   "metadata": {},
   "outputs": [],
   "source": [
    "review_container = []\n",
    "\n",
    "for file in files:\n",
    "    \n",
    "    hundred_reviews = strat_sample(file)\n",
    "    review_container.append(hundred_reviews)\n",
    "    \n",
    "print(review_container)"
   ]
  },
  {
   "cell_type": "code",
   "execution_count": null,
   "id": "9c59e8eb",
   "metadata": {},
   "outputs": [],
   "source": [
    "strat_sample(file)"
   ]
  },
  {
   "cell_type": "code",
   "execution_count": null,
   "id": "db5030a1",
   "metadata": {},
   "outputs": [],
   "source": [
    "reviews = pd.concat(review_container)\n",
    "reviews.groupby(by='node.rating').count()"
   ]
  },
  {
   "cell_type": "code",
   "execution_count": null,
   "id": "891f1fc5",
   "metadata": {},
   "outputs": [],
   "source": [
    "reviews.to_csv('reviews_grain_free_filtered')\n",
    "# reviews.to_csv('reviews_grain_inc_filtered')"
   ]
  },
  {
   "cell_type": "code",
   "execution_count": null,
   "id": "6d3b68ba",
   "metadata": {},
   "outputs": [],
   "source": [
    "['Blue Lacy','Queensland Heeler','Rhod Ridgeback','Retriever','Chinese Sharpei','Black Mouth Cur','Catahoula','Staffordshire','Affenpinscher','Afghan Hound','Airedale Terrier','Akita','Australian Kelpie','Alaskan Malamute','English Bulldog','American Bulldog','American English Coonhound','American Eskimo Dog (Miniature)','American Eskimo Dog (Standard)','American Eskimo Dog (Toy)','American Foxhound','American Hairless Terrier','American Staffordshire Terrier','American Water Spaniel','Anatolian Shepherd Dog','Australian Cattle Dog','Australian Shepherd','Australian Terrier','Basenji','Basset Hound','Beagle','Bearded Collie','Beauceron','Bedlington Terrier','Belgian Malinois','Belgian Sheepdog','Belgian Tervuren','Bergamasco','Berger Picard','Bernese Mountain Dog','Bichon Fris_','Black and Tan Coonhound','Black Russian Terrier','Bloodhound','Bluetick Coonhound','Boerboel','Border Collie','Border Terrier','Borzoi','Boston Terrier','Bouvier des Flandres','Boxer','Boykin Spaniel','Briard','Brittany','Brussels Griffon','Bull Terrier','Bull Terrier (Miniature)','Bulldog','Bullmastiff','Cairn Terrier','Canaan Dog','Cane Corso','Cardigan Welsh Corgi','Cavalier King Charles Spaniel','Cesky Terrier','Chesapeake Bay Retriever','Chihuahua','Chinese Crested Dog','Chinese Shar Pei','Chinook','Chow Chow',\"Cirneco dell'Etna\",'Clumber Spaniel','Cocker Spaniel','Collie','Coton de Tulear','Curly-Coated Retriever','Dachshund','Dalmatian','Dandie Dinmont Terrier','Doberman Pinsch','Doberman Pinscher','Dogue De Bordeaux','English Cocker Spaniel','English Foxhound','English Setter','English Springer Spaniel','English Toy Spaniel','Entlebucher Mountain Dog','Field Spaniel','Finnish Lapphund','Finnish Spitz','Flat-Coated Retriever','French Bulldog','German Pinscher','German Shepherd','German Shorthaired Pointer','German Wirehaired Pointer','Giant Schnauzer','Glen of Imaal Terrier','Golden Retriever','Gordon Setter','Great Dane','Great Pyrenees','Greater Swiss Mountain Dog','Greyhound','Harrier','Havanese','Ibizan Hound','Icelandic Sheepdog','Irish Red and White Setter','Irish Setter','Irish Terrier','Irish Water Spaniel','Irish Wolfhound','Italian Greyhound','Japanese Chin','Keeshond','Kerry Blue Terrier','Komondor','Kuvasz','Labrador Retriever','Lagotto Romagnolo','Lakeland Terrier','Leonberger','Lhasa Apso','L_wchen','Maltese','Manchester Terrier','Mastiff','Miniature American Shepherd','Miniature Bull Terrier','Miniature Pinscher','Miniature Schnauzer','Neapolitan Mastiff','Newfoundland','Norfolk Terrier','Norwegian Buhund','Norwegian Elkhound','Norwegian Lundehund','Norwich Terrier','Nova Scotia Duck Tolling Retriever','Old English Sheepdog','Otterhound','Papillon','Parson Russell Terrier','Pekingese','Pembroke Welsh Corgi','Petit Basset Griffon Vend_en','Pharaoh Hound','Plott','Pointer','Polish Lowland Sheepdog','Pomeranian','Standard Poodle','Miniature Poodle','Toy Poodle','Portuguese Podengo Pequeno','Portuguese Water Dog','Pug','Puli','Pyrenean Shepherd','Rat Terrier','Redbone Coonhound','Rhodesian Ridgeback','Rottweiler','Russell Terrier','St. Bernard','Saluki','Samoyed','Schipperke','Scottish Deerhound','Scottish Terrier','Sealyham Terrier','Shetland Sheepdog','Shiba Inu','Shih Tzu','Siberian Husky','Silky Terrier','Skye Terrier','Sloughi','Smooth Fox Terrier','Soft-Coated Wheaten Terrier','Spanish Water Dog','Spinone Italiano','Staffordshire Bull Terrier','Standard Schnauzer','Sussex Spaniel','Swedish Vallhund','Tibetan Mastiff','Tibetan Spaniel','Tibetan Terrier','Toy Fox Terrier','Treeing Walker Coonhound','Vizsla','Weimaraner','Welsh Springer Spaniel','Welsh Terrier','West Highland White Terrier','Whippet','Wire Fox Terrier','Wirehaired Pointing Griffon','Wirehaired Vizsla','Xoloitzcuintli','Yorkshire Terrier']"
   ]
  }
 ],
 "metadata": {
  "kernelspec": {
   "display_name": "Python 3",
   "language": "python",
   "name": "python3"
  },
  "language_info": {
   "codemirror_mode": {
    "name": "ipython",
    "version": 3
   },
   "file_extension": ".py",
   "mimetype": "text/x-python",
   "name": "python",
   "nbconvert_exporter": "python",
   "pygments_lexer": "ipython3",
   "version": "3.8.8"
  }
 },
 "nbformat": 4,
 "nbformat_minor": 5
}
