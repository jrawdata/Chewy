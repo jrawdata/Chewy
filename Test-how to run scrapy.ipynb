{
 "cells": [
  {
   "cell_type": "code",
   "execution_count": 11,
   "id": "fde427f2",
   "metadata": {},
   "outputs": [],
   "source": [
    "import scrapy\n",
    "from scrapy.crawler import CrawlerProcess\n",
    "# text cleaning\n",
    "import re\n",
    "\n",
    "class WhiskeySpider(scrapy.Spider):\n",
    "    name = \"whisky\"\n",
    "    start_urls = [\n",
    "        'https://www.whiskyshop.com/single-malt-scotch-whisky?item_availability=In+Stock',\n",
    "    ]\n",
    "\n",
    "    def parse(self, response):\n",
    "        for products in response.css('div.product-item-info'):\n",
    "            yield {\n",
    "                'name': prodcuts.css('a.product-item-link::text').get(),\n",
    "                'price': prodcuts.css('span.price::text').get().replace('£',''),\n",
    "                'link':  prodcuts.css('a.product-item-link').attrib['href'],\n",
    "            }"
   ]
  },
  {
   "cell_type": "code",
   "execution_count": null,
   "id": "0aab9bf4",
   "metadata": {},
   "outputs": [],
   "source": [
    "import scrapy\n",
    "from scrapy.crawler import CrawlerProcess\n",
    "# text cleaning\n",
    "import re\n",
    "\n",
    "class ChewySpider(scrapy.Spider):\n",
    "    name = \"Chewy\"\n",
    "    start_urls = [\n",
    "        'https://www.chewy.com/b/dry-food-294',\n",
    "    ]\n",
    "\n",
    "    def parse(self, response):\n",
    "        for products in response.css('div.product-item-info'):\n",
    "            yield {\n",
    "                'name': prodcuts.css('a.kib-product-title::text').get(),\n",
    "                'price': prodcuts.css('kib-product-price kib-product-price--md::text').get(),\n",
    "                'link':  prodcuts.css('a.kib-product-title').attrib['href'],\n",
    "            }\n",
    "            "
   ]
  }
 ],
 "metadata": {
  "kernelspec": {
   "display_name": "Python 3",
   "language": "python",
   "name": "python3"
  },
  "language_info": {
   "codemirror_mode": {
    "name": "ipython",
    "version": 3
   },
   "file_extension": ".py",
   "mimetype": "text/x-python",
   "name": "python",
   "nbconvert_exporter": "python",
   "pygments_lexer": "ipython3",
   "version": "3.8.8"
  }
 },
 "nbformat": 4,
 "nbformat_minor": 5
}
