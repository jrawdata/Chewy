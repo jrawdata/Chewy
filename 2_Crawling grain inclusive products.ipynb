{
 "cells": [
  {
   "cell_type": "code",
   "execution_count": null,
   "id": "54eb07e7",
   "metadata": {},
   "outputs": [],
   "source": [
    "import scrapy\n",
    "from scrapy.crawler import CrawlerProcess\n",
    "import re\n",
    "import pandas as pd\n",
    "import requests\n",
    "import json"
   ]
  },
  {
   "cell_type": "code",
   "execution_count": null,
   "id": "a3d4e567",
   "metadata": {
    "scrolled": false
   },
   "outputs": [],
   "source": [
    "import scrapy\n",
    "from scrapy.crawler import CrawlerProcess\n",
    "\n",
    "\n",
    "class Chewy_adult(scrapy.Spider):\n",
    "    name = \"Chewy_adult\"\n",
    "    start_urls = ['https://www.chewy.com/b/adult-11098']\n",
    "\n",
    "    def parse(self, response):\n",
    "        for products in response.css('div.kib-product-card__content'):\n",
    "            yield {\n",
    "                  'name':  products.css('a.kib-product-title *::text').get(),\n",
    "             'food_type':  products.css('a.kib-product-title *::text').re_first(r\"^\\s{1}[(\\w\\s)-|&|']+\"),\n",
    "                 'price':  products.css('div.kib-product-price--md::text').get(),\n",
    "                'rating':  products.css('div.kib-product-rating__label::text').get(),\n",
    "             'no_review':  products.css('span.kib-product-rating__count::text').get(),\n",
    "                 'link' : products.css('a.kib-product-title::attr(href)').get(),\n",
    "            }\n",
    "            \n",
    "        next_page= response.css('a.kib-pagination-new-item--next').attrib['href']\n",
    "        if next_page is not None:\n",
    "            yield response.follow(next_page, callback=self.parse)\n",
    "\n",
    "process = CrawlerProcess(settings={\n",
    "    \"FEEDS\": {\n",
    "        \"reg_adults.csv\": {\"format\": \"csv\"},\n",
    "    },\n",
    "})\n",
    "\n",
    "process.crawl(Chewy_adult)\n",
    "process.start()\n"
   ]
  },
  {
   "cell_type": "code",
   "execution_count": null,
   "id": "0515f86a",
   "metadata": {
    "scrolled": false
   },
   "outputs": [],
   "source": [
    "import pandas as pd\n",
    "pd.set_option('display.max_colwidth', None)\n",
    "adults = pd.read_csv(\"reg_adults.csv\")\n",
    "adults = adults.dropna().reset_index(drop=True)\n",
    "adults"
   ]
  },
  {
   "cell_type": "code",
   "execution_count": null,
   "id": "5c0dfbc0",
   "metadata": {},
   "outputs": [],
   "source": [
    "#Remove grain-free and bundled products \n",
    "adults = adults.loc[~adults['food_type'].str.contains(\"Grain-free|Grain-Free|Bundle\")]"
   ]
  },
  {
   "cell_type": "code",
   "execution_count": null,
   "id": "2cc66974",
   "metadata": {},
   "outputs": [],
   "source": [
    "adults['price'] = adults['price'].str.replace('$', '')\n",
    "adults['no_review'] = adults['no_review'].str.replace(',', '')"
   ]
  },
  {
   "cell_type": "code",
   "execution_count": null,
   "id": "794823cb",
   "metadata": {},
   "outputs": [],
   "source": [
    "adults['price'] = adults['price'].astype('float')\n",
    "\n",
    "adults['no_review'] = adults['no_review'].astype('int')"
   ]
  },
  {
   "cell_type": "code",
   "execution_count": null,
   "id": "c0e32792",
   "metadata": {},
   "outputs": [],
   "source": [
    "pattern = r'(\\d\\.\\d*)'\n",
    "adults['rating'] = adults['rating'].str.extract(pattern)\n",
    "\n",
    "adults['rating'] = adults['rating'].astype('float')"
   ]
  },
  {
   "cell_type": "code",
   "execution_count": null,
   "id": "d3a4a0c8",
   "metadata": {},
   "outputs": [],
   "source": [
    "adults_100=adults.loc[adults['no_review']>100].reset_index(drop=True)\n",
    "adults_100"
   ]
  },
  {
   "cell_type": "code",
   "execution_count": null,
   "id": "6ae7da8b",
   "metadata": {},
   "outputs": [],
   "source": [
    "adult_100_link = adults_100.link.str.extract(r'dp\\/(\\d+)', expand = True)\n",
    "adult_link = adult_100_link[0].values.tolist()\n",
    "len(adult_link)"
   ]
  },
  {
   "cell_type": "code",
   "execution_count": null,
   "id": "ca70faf7",
   "metadata": {},
   "outputs": [],
   "source": [
    "URL = 'https://www.chewy.com/api/pdp-graphql/graphql'\n",
    "headers = {\n",
    "    'user-agent': 'user-agent: Mozilla/5.0 (X11; Linux x86_64) AppleWebKit/537.36 (KHTML, like Gecko) Chrome/102.0.5005.61 Safari/537.36'\n",
    "}\n",
    "\n",
    "def get_params(product_id,after):\n",
    "    params = {\n",
    "    'operationName': 'Reviews',\n",
    "    'variables': '{\"id\":\"'+product_id+'\",\"first\":100,\"sort\":\"MOST_RELEVANT\",\"after\":\"'+after+'\"}',\n",
    "    'extensions': '{\"persistedQuery\":{\"version\":1,\"sha256Hash\":\"f1ad95c550af020ebbc5c6da08fd478b1cf25b5e911cba4710d773b84e063730\"}}'\n",
    "}\n",
    "    return params"
   ]
  },
  {
   "cell_type": "code",
   "execution_count": null,
   "id": "4f4a3750",
   "metadata": {},
   "outputs": [],
   "source": [
    " def get_reviews(product_id):\n",
    "    \n",
    "        reviews = []\n",
    "        hasNextPage = True\n",
    "        after = \"YXJyYXljb25uZWN0aW9uOjk=\"\n",
    "\n",
    "        while hasNextPage:\n",
    "            params = get_params(product_id,after)\n",
    "            response = requests.get(URL,\n",
    "                                params = params,\n",
    "                                headers = headers)\n",
    "            #return response\n",
    "            \n",
    "            after = (response.json()['data']['product']['reviews']['pageInfo']['endCursor'])\n",
    "            hasNextPage = (response.json()['data']['product']['reviews']['pageInfo']['hasNextPage'])\n",
    "            rev = (response.json()['data']['product']['reviews']['edges'])\n",
    "            reviews.extend(rev)\n",
    "\n",
    "            #print(\"Getting next page\")\n",
    "\n",
    "        filepath = f\"data/reviews_adult/reviews_{product_id}.json\"\n",
    "        with open(filepath,\"w\") as fi:\n",
    "            json.dump(reviews, fi)\n",
    "            #reviews.append(ids)"
   ]
  },
  {
   "cell_type": "code",
   "execution_count": null,
   "id": "ea692f86",
   "metadata": {},
   "outputs": [],
   "source": [
    "product_id= plz\n",
    "\n",
    "for product_id in plz:\n",
    "    \n",
    "   get_reviews(product_id)"
   ]
  },
  {
   "cell_type": "code",
   "execution_count": null,
   "id": "b00df3e6",
   "metadata": {},
   "outputs": [],
   "source": [
    "adults_100.describe()"
   ]
  }
 ],
 "metadata": {
  "kernelspec": {
   "display_name": "Python 3",
   "language": "python",
   "name": "python3"
  },
  "language_info": {
   "codemirror_mode": {
    "name": "ipython",
    "version": 3
   },
   "file_extension": ".py",
   "mimetype": "text/x-python",
   "name": "python",
   "nbconvert_exporter": "python",
   "pygments_lexer": "ipython3",
   "version": "3.8.8"
  }
 },
 "nbformat": 4,
 "nbformat_minor": 5
}
