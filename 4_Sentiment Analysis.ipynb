{
 "cells": [
  {
   "cell_type": "code",
   "execution_count": null,
   "id": "c5aa3135",
   "metadata": {},
   "outputs": [],
   "source": [
    "import pandas as pd\n",
    "import json\n",
    "from nltk.sentiment import SentimentIntensityAnalyzer\n",
    "import glob\n",
    "from sklearn.model_selection import train_test_split\n",
    "from sklearn.feature_extraction.text import CountVectorizer\n",
    "import os"
   ]
  },
  {
   "cell_type": "code",
   "execution_count": null,
   "id": "ca0e2eec",
   "metadata": {},
   "outputs": [],
   "source": [
    "pd.read_csv('reviews_grain_inc_filtered')\n",
    "#pd.read_csv('reviews_grain_free_filtered')"
   ]
  },
  {
   "cell_type": "code",
   "execution_count": null,
   "id": "5206e716",
   "metadata": {},
   "outputs": [],
   "source": [
    "#Initialize sia\n",
    "sia = SentimentIntensityAnalyzer()"
   ]
  },
  {
   "cell_type": "code",
   "execution_count": null,
   "id": "321fb86d",
   "metadata": {},
   "outputs": [],
   "source": [
    "#use compound score\n",
    "reviews['compound_score'] = reviews['node.text'].apply(lambda review_text: sia.polarity_scores(review_text)['compound']) \n"
   ]
  },
  {
   "cell_type": "code",
   "execution_count": null,
   "id": "91a8faa9",
   "metadata": {},
   "outputs": [],
   "source": [
    "reviews['compound_score'].describe()"
   ]
  },
  {
   "cell_type": "code",
   "execution_count": null,
   "id": "4e191024",
   "metadata": {},
   "outputs": [],
   "source": [
    "gf_reviews.plot(kind='scatter', x= 'node.rating', y='compound_score')"
   ]
  },
  {
   "cell_type": "code",
   "execution_count": null,
   "id": "a56cd8ce",
   "metadata": {},
   "outputs": [],
   "source": [
    "reviews.groupby('node.rating')['compound_score'].mean()"
   ]
  },
  {
   "cell_type": "code",
   "execution_count": null,
   "id": "bfa80f4a",
   "metadata": {},
   "outputs": [],
   "source": [
    "#sick, #dog breeds\n",
    "#keyword = ('canine dilated cardiomyopathy | DCM |dilated cardiomyopathy')\n",
    "keyword = ('lethargy|leathargic|vomit|heart|coughing|cough|vomiting|died ')\n",
    "reviews.loc[reviews['node.text'].str.contains(keyword)]['node.text'].values"
   ]
  },
  {
   "cell_type": "code",
   "execution_count": null,
   "id": "242f280d",
   "metadata": {},
   "outputs": [],
   "source": [
    "reviews.loc[gf_reviews['node.text'].str.contains(keyword)]['node.rating'].value_counts()"
   ]
  },
  {
   "cell_type": "code",
   "execution_count": null,
   "id": "dc84b782",
   "metadata": {},
   "outputs": [],
   "source": [
    "reviews.loc[(gf_reviews['node.text'].str.contains(keyword))&(gf_reviews['node.rating']==1)]['node.text'].values"
   ]
  },
  {
   "cell_type": "code",
   "execution_count": null,
   "id": "8a0abbeb",
   "metadata": {},
   "outputs": [],
   "source": [
    "# using CountVectorizer to count keywords in node.text"
   ]
  },
  {
   "cell_type": "code",
   "execution_count": null,
   "id": "2af880d9",
   "metadata": {},
   "outputs": [],
   "source": [
    "vectorizer = CountVectorizer(stop_words = 'english')\n",
    "\n",
    "corpus = gf_reviews['node.text']\n",
    "X = vectorizer.fit_transform(corpus)\n",
    "#vectorizer.get_feature_names_out()"
   ]
  },
  {
   "cell_type": "code",
   "execution_count": null,
   "id": "041f50bc",
   "metadata": {},
   "outputs": [],
   "source": [
    "X"
   ]
  },
  {
   "cell_type": "code",
   "execution_count": null,
   "id": "61d8c34a",
   "metadata": {},
   "outputs": [],
   "source": [
    "X.sum(axis=0).shape"
   ]
  },
  {
   "cell_type": "code",
   "execution_count": null,
   "id": "bacc42dc",
   "metadata": {},
   "outputs": [],
   "source": [
    "vectorizer.get_feature_names_out()"
   ]
  },
  {
   "cell_type": "code",
   "execution_count": null,
   "id": "f901cbfc",
   "metadata": {},
   "outputs": [],
   "source": [
    "counts_df = {\"frequency\" :  X.sum(axis=0).tolist()[0],\n",
    "             \"words\" : vectorizer.get_feature_names_out()}\n",
    "\n",
    "counts_df = pd.DataFrame(counts_df)"
   ]
  },
  {
   "cell_type": "code",
   "execution_count": null,
   "id": "10eedc16",
   "metadata": {},
   "outputs": [],
   "source": [
    "counts_df.sort_values(by='frequency', ascending = False).head(25)"
   ]
  },
  {
   "cell_type": "code",
   "execution_count": null,
   "id": "b9317cc4",
   "metadata": {},
   "outputs": [],
   "source": [
    "one_star = reviews.loc[reviews['node.rating']==1]\n",
    "five_star = reviews.loc[reviews['node.rating']==5]"
   ]
  },
  {
   "cell_type": "code",
   "execution_count": null,
   "id": "6ddbc66e",
   "metadata": {},
   "outputs": [],
   "source": [
    "low_reviews = reviews.loc[(reviews['node.rating']==1) | (reviews['node.rating']==2)] "
   ]
  },
  {
   "cell_type": "code",
   "execution_count": null,
   "id": "28b18cf4",
   "metadata": {},
   "outputs": [],
   "source": [
    "five_star['compound_score'].describe()"
   ]
  },
  {
   "cell_type": "code",
   "execution_count": null,
   "id": "c3d19849",
   "metadata": {},
   "outputs": [],
   "source": [
    "vectorizer = CountVectorizer(ngram_range = (3,3),stop_words = 'english')\n",
    "\n",
    "corpus = low_reviews['node.text']\n",
    "X = vectorizer.fit_transform(corpus)\n",
    "counts_df = {\"frequency\" :  X.sum(axis=0).tolist()[0],\n",
    "             \"words\" : vectorizer.get_feature_names_out()}\n",
    "\n",
    "counts_df = pd.DataFrame(counts_df)\n",
    "counts_df.sort_values(by='frequency', ascending = False).head(15)"
   ]
  }
 ],
 "metadata": {
  "kernelspec": {
   "display_name": "Python 3",
   "language": "python",
   "name": "python3"
  },
  "language_info": {
   "codemirror_mode": {
    "name": "ipython",
    "version": 3
   },
   "file_extension": ".py",
   "mimetype": "text/x-python",
   "name": "python",
   "nbconvert_exporter": "python",
   "pygments_lexer": "ipython3",
   "version": "3.8.8"
  }
 },
 "nbformat": 4,
 "nbformat_minor": 5
}
